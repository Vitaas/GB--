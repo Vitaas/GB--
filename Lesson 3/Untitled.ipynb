{
 "cells": [
  {
   "cell_type": "markdown",
   "metadata": {},
   "source": [
    "# Урок 3. Системы управления базами данных MongoDB и SQLite в Python"
   ]
  },
  {
   "cell_type": "markdown",
   "metadata": {},
   "source": [
    "1) Развернуть у себя на компьютере/виртуальной машине/хостинге MongoDB и реализовать функцию, записывающую собранные вакансии в созданную БД (без датафрейма)  \n",
    "2) Написать функцию, которая производит поиск и выводит на экран вакансии с заработной платой больше введенной суммы. Поиск по двум полям (мин и макс зарплату)  \n",
    "3) Написать функцию, которая будет добавлять в вашу базу данных только новые вакансии с сайта  "
   ]
  },
  {
   "cell_type": "code",
   "execution_count": 8,
   "metadata": {},
   "outputs": [],
   "source": [
    "import requests\n",
    "from pprint import pprint\n",
    "import re  # потребуется для разбора строки регулярным выражением\n",
    "from bs4 import BeautifulSoup as bs\n",
    "from pymongo import MongoClient\n",
    "from pymongo import errors"
   ]
  },
  {
   "cell_type": "code",
   "execution_count": 9,
   "metadata": {},
   "outputs": [],
   "source": [
    "client = MongoClient('localhost', 27017)\n",
    "db = client['vacancies_db']"
   ]
  },
  {
   "cell_type": "code",
   "execution_count": 10,
   "metadata": {},
   "outputs": [],
   "source": [
    "def put_vacancy_to_db(vacancy_data):\n",
    "    try:\n",
    "        db.vacancies.insert_one(vacancy_data)\n",
    "    except errors.DuplicateKeyError:\n",
    "        pass\n",
    "        return 0\n",
    "    else:\n",
    "        return 1"
   ]
  },
  {
   "cell_type": "code",
   "execution_count": 11,
   "metadata": {},
   "outputs": [],
   "source": [
    "def get_vacancy_compensation(vacancy_comp):\n",
    "    \n",
    "    vacancy_comp = re.sub('(?<=\\d)\\s(?=\\d)', '', vacancy_comp)  # убрать пробелы между числами\n",
    "    vacancy_comp = vacancy_comp.lower()\n",
    "    words = re.findall(r'\\w+', vacancy_comp)  # составит список слов из строки\n",
    "\n",
    "    min_compensation, max_compensation, currency_compensation = None, None, None\n",
    "\n",
    "    if words:\n",
    "        if len(words) > 2:\n",
    "            currency_compensation = words[2]\n",
    "\n",
    "        if words.count('от') != 0:\n",
    "            min_compensation = words[1]\n",
    "        elif words.count('до') != 0:\n",
    "            max_compensation = words[1]\n",
    "        elif words.count('по') != 0:\n",
    "            pass\n",
    "        else:\n",
    "            min_compensation = words[0]\n",
    "            max_compensation = words[1]\n",
    "\n",
    "    return min_compensation, max_compensation, currency_compensation"
   ]
  },
  {
   "cell_type": "code",
   "execution_count": 12,
   "metadata": {},
   "outputs": [],
   "source": [
    "main_link_hh = 'https://hh.ru/'\n",
    "job_title = 'Data+scientist'\n",
    "\n",
    "headers = {'User-Agent':'Mozilla/5.0 (Windows NT 10.0; Win64; x64) AppleWebKit/537.36 (KHTML, like Gecko) Chrome/83.0.4103.106 Safari/537.36'}\n",
    "\n",
    "response = requests.get(main_link_hh + f'/search/vacancy?text={job_title}', headers=headers)\n",
    "\n",
    "soup = bs(response.text,'lxml')\n",
    "\n",
    "new_vacancy = 0"
   ]
  },
  {
   "cell_type": "code",
   "execution_count": 13,
   "metadata": {},
   "outputs": [],
   "source": [
    "vacancy_block = soup.find('div',{'class':'vacancy-serp'})\n",
    "vacancy_list = vacancy_block.find_all('div', {'class':'vacancy-serp__vacancy'})\n",
    "vacancy_list = vacancy_block.findChildren('div', {'class':'vacancy-serp-item'}, recursive=False)"
   ]
  },
  {
   "cell_type": "code",
   "execution_count": 14,
   "metadata": {},
   "outputs": [],
   "source": [
    "vacancies = []\n",
    "\n",
    "for vacancy in vacancy_list:\n",
    "    vacancy_data = {}\n",
    "    \n",
    "    site_name = main_link_hh\n",
    "    vacancy_name = vacancy.find('a').getText()\n",
    "    vacancy_link = vacancy.find('a')['href']\n",
    "    employer = vacancy.find('a', {'data-qa':'vacancy-serp__vacancy-employer'}).getText()\n",
    "    location = vacancy.find('span', {'data-qa':'vacancy-serp__vacancy-address'}).getText()\n",
    "   \n",
    "    vacancy_data['name'] = vacancy_name\n",
    "    vacancy_data['link'] = vacancy_link\n",
    "    vacancy_data['employer'] = employer\n",
    "    vacancy_data['location'] = location\n",
    "    vacancy_data['site'] = site_name\n",
    "    \n",
    "    vacancy_comp = vacancy.find('div', {'class': 'vacancy-serp-item__sidebar'}).getText().replace(u'\\xa0', u'')\n",
    "    vacancy_data['min_compensation'], vacancy_data['max_compensation'], vacancy_data['currency_compensation'] = get_vacancy_compensation(vacancy_comp)\n",
    "\n",
    "    new_vacancy += put_vacancy_to_db(vacancy_data)\n",
    "    \n",
    "    vacancies.append(vacancy_data)"
   ]
  },
  {
   "cell_type": "code",
   "execution_count": null,
   "metadata": {},
   "outputs": [],
   "source": [
    "compensation = 100000\n",
    "\n",
    "vacancies = db.hh.find({'$or' : [{'min_compensation': {'$gt' : compensation}}, {'max_compensation': {'$gt' : compensation}}]})\\\n",
    "                 .limit(5)\n",
    "\n",
    "for vacancy in vacancies:\n",
    "    print(vacancy)"
   ]
  }
 ],
 "metadata": {
  "kernelspec": {
   "display_name": "Python 3",
   "language": "python",
   "name": "python3"
  },
  "language_info": {
   "codemirror_mode": {
    "name": "ipython",
    "version": 3
   },
   "file_extension": ".py",
   "mimetype": "text/x-python",
   "name": "python",
   "nbconvert_exporter": "python",
   "pygments_lexer": "ipython3",
   "version": "3.7.6"
  }
 },
 "nbformat": 4,
 "nbformat_minor": 4
}
